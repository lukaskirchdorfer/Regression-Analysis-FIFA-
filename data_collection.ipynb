{
 "cells": [
  {
   "cell_type": "code",
   "execution_count": null,
   "metadata": {},
   "outputs": [],
   "source": [
    "from bs4 import BeautifulSoup as bs \n",
    "import requests\n",
    "import pandas as pd\n",
    "from utils.html_paths import html_dict"
   ]
  },
  {
   "cell_type": "code",
   "execution_count": 1,
   "metadata": {},
   "outputs": [],
   "source": [
    "#test cell"
   ]
  },
  {
   "cell_type": "code",
   "execution_count": null,
   "metadata": {},
   "outputs": [],
   "source": [
    "player_counter = 0\n",
    "base_url = 'https://sofifa.com/?showCol%5B0%5D=pi&showCol%5B1%5D=ae&showCol%5B2%5D=hi&showCol%5B3%5D=wi&showCol%5B4%5D=pf&showCol%5B5%5D=oa&showCol%5B6%5D=pt&showCol%5B7%5D=bo&showCol%5B8%5D=bp&showCol%5B9%5D=gu&showCol%5B10%5D=jt&showCol%5B11%5D=vl&showCol%5B12%5D=ta&showCol%5B13%5D=cr&showCol%5B14%5D=fi&showCol%5B15%5D=he&showCol%5B16%5D=sh&showCol%5B17%5D=vo&showCol%5B18%5D=ts&showCol%5B19%5D=dr&showCol%5B20%5D=cu&showCol%5B21%5D=fr&showCol%5B22%5D=lo&showCol%5B23%5D=bl&showCol%5B24%5D=to&showCol%5B25%5D=ac&showCol%5B26%5D=sp&showCol%5B27%5D=ag&showCol%5B28%5D=re&showCol%5B29%5D=ba&showCol%5B30%5D=tp&showCol%5B31%5D=so&showCol%5B32%5D=ju&showCol%5B33%5D=st&showCol%5B34%5D=sr&showCol%5B35%5D=ln&showCol%5B36%5D=te&showCol%5B37%5D=ar&showCol%5B38%5D=in&showCol%5B39%5D=po&showCol%5B40%5D=vi&showCol%5B41%5D=pe&showCol%5B42%5D=cm&showCol%5B43%5D=td&showCol%5B44%5D=ma&showCol%5B45%5D=sa&showCol%5B46%5D=sl&showCol%5B47%5D=tg&showCol%5B48%5D=gd&showCol%5B49%5D=gh&showCol%5B50%5D=gc&showCol%5B51%5D=gp&showCol%5B52%5D=gr&showCol%5B53%5D=tt&showCol%5B54%5D=bs&showCol%5B55%5D=wk&showCol%5B56%5D=sk&showCol%5B57%5D=aw&showCol%5B58%5D=dw&showCol%5B59%5D=ir&showCol%5B60%5D=pac&showCol%5B61%5D=sho&showCol%5B62%5D=pas&showCol%5B63%5D=dri&showCol%5B64%5D=def&showCol%5B65%5D=phy&showCol%5B66%5D=wg&offset='\n",
    "final_df = pd.DataFrame()"
   ]
  },
  {
   "cell_type": "code",
   "execution_count": null,
   "metadata": {},
   "outputs": [],
   "source": [
    "while player_counter < 300000:\n",
    "    print(player_counter)\n",
    "    # Set the url of the current page\n",
    "    current_url = base_url + str(player_counter)\n",
    "    \n",
    "    # Download content of current page \n",
    "    page = requests.get(current_url)\n",
    "    soup = bs(page.content, 'html.parser')\n",
    "    \n",
    "    temp_df = pd.DataFrame()\n",
    "    \n",
    "    for col_name, html_path in html_dict.items():\n",
    "        current_col = soup.select(html_path)\n",
    "        current_col = [value.text for value in current_col]\n",
    "        temp_df[col_name] = current_col\n",
    "    \n",
    "    final_df = pd.concat([final_df, temp_df])\n",
    "    \n",
    "    player_counter +=60 # since 60 players per site"
   ]
  },
  {
   "cell_type": "code",
   "execution_count": null,
   "metadata": {},
   "outputs": [],
   "source": [
    "final_df_without_duplicates = final_df.drop_duplicates(subset = \"id\")"
   ]
  },
  {
   "cell_type": "code",
   "execution_count": null,
   "metadata": {},
   "outputs": [],
   "source": [
    "final_df_without_duplicates.to_csv(\"utils/fifa_data_without_duplicates\", encoding='utf-8', index=False)"
   ]
  }
 ],
 "metadata": {
  "kernelspec": {
   "display_name": "Python 3",
   "language": "python",
   "name": "python3"
  },
  "language_info": {
   "codemirror_mode": {
    "name": "ipython",
    "version": 3
   },
   "file_extension": ".py",
   "mimetype": "text/x-python",
   "name": "python",
   "nbconvert_exporter": "python",
   "pygments_lexer": "ipython3",
   "version": "3.8.8"
  }
 },
 "nbformat": 4,
 "nbformat_minor": 4
}
